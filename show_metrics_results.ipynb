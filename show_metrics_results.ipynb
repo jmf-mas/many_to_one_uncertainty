{
 "cells": [
  {
   "cell_type": "code",
   "execution_count": 1,
   "id": "d439d6d5",
   "metadata": {},
   "outputs": [],
   "source": [
    "import numpy as np\n",
    "from sklearn.metrics import mean_squared_error as mse\n",
    "import matplotlib.pyplot as plt"
   ]
  },
  {
   "cell_type": "code",
   "execution_count": 2,
   "id": "0e91babe",
   "metadata": {},
   "outputs": [],
   "source": [
    "directory_data = \"data/\"\n",
    "directory_outputs = \"outputs/\"\n",
    "kdd = \"kdd\"\n",
    "nsl = \"nsl\"\n",
    "ids = \"ids\""
   ]
  },
  {
   "cell_type": "code",
   "execution_count": 3,
   "id": "75a4431e",
   "metadata": {},
   "outputs": [],
   "source": [
    "y_pred_train_ids = np.loadtxt(directory_outputs + ids + \"_pred_train.csv\", delimiter=\",\")\n",
    "y_pred_val_ids = np.loadtxt(directory_outputs + ids + \"_pred_val.csv\", delimiter=\",\")\n",
    "y_pred_test_ids = np.loadtxt(directory_outputs + ids + \"_pred_test.csv\", delimiter=\",\")\n",
    "\n",
    "y_pred_train_nsl = np.loadtxt(directory_outputs + nsl + \"_pred_train.csv\", delimiter=\",\")\n",
    "y_pred_val_nsl = np.loadtxt(directory_outputs + nsl + \"_pred_val.csv\", delimiter=\",\")\n",
    "y_pred_test_nsl = np.loadtxt(directory_outputs + nsl +\"_pred_test.csv\", delimiter=\",\")\n",
    "\n",
    "y_pred_train_kdd = np.loadtxt(directory_outputs + kdd + \"_pred_train.csv\", delimiter=\",\")\n",
    "y_pred_val_kdd = np.loadtxt(directory_outputs + kdd +\"_pred_val.csv\", delimiter=\",\")\n",
    "y_pred_test_kdd = np.loadtxt(directory_outputs + kdd +\"_pred_test.csv\", delimiter=\",\")"
   ]
  },
  {
   "cell_type": "code",
   "execution_count": 9,
   "id": "f601739f",
   "metadata": {},
   "outputs": [],
   "source": [
    "XY_kdd_train = np.loadtxt(directory_data + kdd + \"_train_latent.csv\", delimiter=',')\n",
    "y_train_kdd = XY_kdd_train[:, -1]\n",
    "X_train_kdd = XY_kdd_train[:, :-1]\n",
    "XY_kdd_val = np.loadtxt(directory_data + kdd + \"_val_latent.csv\", delimiter=',')\n",
    "y_val_kdd = XY_kdd_val[:, -1]\n",
    "X_val_kdd = XY_kdd_val[:, :-1]\n",
    "XY_kdd_test = np.loadtxt(directory_data + kdd +\"_test_latent.csv\", delimiter=',')\n",
    "y_test_kdd = XY_kdd_test[:, -1]\n",
    "X_test_kdd = XY_kdd_test[:, :-1]\n",
    "    \n",
    "XY_nsl_train = np.loadtxt(directory_data + nsl + \"_train_latent.csv\", delimiter=',')\n",
    "y_train_nsl = XY_nsl_train[:, -1]\n",
    "X_train_nsl = XY_nsl_train[:, :-1]\n",
    "XY_nsl_val = np.loadtxt(directory_data + nsl + \"_val_latent.csv\", delimiter=',')\n",
    "y_val_nsl = XY_nsl_val[:, -1]\n",
    "X_val_nsl = XY_nsl_val[:, :-1]\n",
    "XY_nsl_test = np.loadtxt(directory_data + nsl + \"_test_latent.csv\", delimiter=',')\n",
    "y_test_nsl = XY_nsl_test[:, -1]\n",
    "X_test_nsl = XY_nsl_test[:, :-1]\n",
    "    \n",
    "XY_ids_train = np.loadtxt(directory_data + ids + \"_train_latent.csv\", delimiter=',')\n",
    "y_train_ids = XY_ids_train[:, -1]\n",
    "X_train_ids = XY_ids_train[:, :-1]\n",
    "XY_ids_val = np.loadtxt(directory_data + ids + \"_val_latent.csv\", delimiter=',')\n",
    "y_val_ids = XY_ids_val[:, -1]\n",
    "X_val_ids = XY_ids_val[:, :-1]\n",
    "XY_ids_test = np.loadtxt(directory_data + ids + \"_test_latent.csv\", delimiter=',')\n",
    "y_test_ids = XY_ids_test[:, -1]\n",
    "X_test_ids = XY_ids_test[:, :-1]"
   ]
  },
  {
   "cell_type": "markdown",
   "id": "20e9c584",
   "metadata": {},
   "source": [
    "### Data description"
   ]
  },
  {
   "cell_type": "code",
   "execution_count": null,
   "id": "5779d2db",
   "metadata": {},
   "outputs": [],
   "source": []
  },
  {
   "cell_type": "markdown",
   "id": "6c1ee5e6",
   "metadata": {},
   "source": [
    "### MSE"
   ]
  },
  {
   "cell_type": "code",
   "execution_count": 5,
   "id": "140a1370",
   "metadata": {},
   "outputs": [
    {
     "data": {
      "text/plain": [
       "(7.711374682887849e-05, 8.11436499678395e-05, 8.135426381259768e-05)"
      ]
     },
     "execution_count": 5,
     "metadata": {},
     "output_type": "execute_result"
    }
   ],
   "source": [
    "mse(y_train_kdd, y_pred_train_kdd), mse(y_val_kdd, y_pred_val_kdd), mse(y_test_kdd, y_pred_test_kdd)"
   ]
  },
  {
   "cell_type": "code",
   "execution_count": 6,
   "id": "b25c40bc",
   "metadata": {},
   "outputs": [
    {
     "data": {
      "text/plain": [
       "(0.0001471900411173599, 0.00015118512004165028, 0.00015126825071593166)"
      ]
     },
     "execution_count": 6,
     "metadata": {},
     "output_type": "execute_result"
    }
   ],
   "source": [
    "mse(y_train_nsl, y_pred_train_nsl), mse(y_val_nsl, y_pred_val_nsl), mse(y_test_nsl, y_pred_test_nsl)"
   ]
  },
  {
   "cell_type": "code",
   "execution_count": 7,
   "id": "1ada6921",
   "metadata": {},
   "outputs": [
    {
     "data": {
      "text/plain": [
       "(3.0200513449993626e-08, 2.991214392564991e-08, 2.9776338867520765e-08)"
      ]
     },
     "execution_count": 7,
     "metadata": {},
     "output_type": "execute_result"
    }
   ],
   "source": [
    "mse(y_train_ids, y_pred_train_ids), mse(y_val_ids, y_pred_val_ids), mse(y_test_ids, y_pred_test_ids)"
   ]
  },
  {
   "cell_type": "markdown",
   "id": "978983a1",
   "metadata": {},
   "source": [
    "### RMSCE"
   ]
  },
  {
   "cell_type": "code",
   "execution_count": null,
   "id": "efeb7dbd",
   "metadata": {},
   "outputs": [],
   "source": []
  },
  {
   "cell_type": "markdown",
   "id": "0cb589d2",
   "metadata": {},
   "source": [
    "### Plots"
   ]
  },
  {
   "cell_type": "code",
   "execution_count": 16,
   "id": "d3389ab9",
   "metadata": {},
   "outputs": [
    {
     "data": {
      "text/plain": [
       "<matplotlib.legend.Legend at 0x7f066dcb17c0>"
      ]
     },
     "execution_count": 16,
     "metadata": {},
     "output_type": "execute_result"
    },
    {
     "data": {
      "image/png": "[encoded data removed]",
      "text/plain": [
       "<Figure size 640x480 with 1 Axes>"
      ]
     },
     "metadata": {},
     "output_type": "display_data"
    }
   ],
   "source": [
    "arg = np.argsort(y_test_kdd)\n",
    "plt.plot(y_test_kdd[arg], label=\"ensemble\")\n",
    "arg = np.argsort(y_pred_test_kdd)\n",
    "plt.plot(y_pred_test_kdd[arg]+0.008, label=\"prediction\")\n",
    "plt.legend()"
   ]
  }
 ],
 "metadata": {
  "kernelspec": {
   "display_name": "Python 3 (ipykernel)",
   "language": "python",
   "name": "python3"
  },
  "language_info": {
   "codemirror_mode": {
    "name": "ipython",
    "version": 3
   },
   "file_extension": ".py",
   "mimetype": "text/x-python",
   "name": "python",
   "nbconvert_exporter": "python",
   "pygments_lexer": "ipython3",
   "version": "3.9.16"
  }
 },
 "nbformat": 4,
 "nbformat_minor": 5
}
