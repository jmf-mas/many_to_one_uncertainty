{
 "cells": [
  {
   "cell_type": "code",
   "execution_count": 1,
   "id": "3cdf1dc6",
   "metadata": {},
   "outputs": [],
   "source": [
    "import plots import get_plots"
   ]
  },
  {
   "cell_type": "code",
   "execution_count": 2,
   "id": "f31f24d9",
   "metadata": {},
   "outputs": [],
   "source": [
    "\n",
    "metric = \"std\" # ent for entropy and std for standard deviation\n",
    "filename = \"correlation_\"+ metric + \"_\"+str(i)"
   ]
  },
  {
   "cell_type": "code",
   "execution_count": null,
   "id": "fad3c984",
   "metadata": {},
   "outputs": [],
   "source": [
    "size = 15\n",
    "metrics = {\"ent\":-1, \"std\":-2}\n",
    "for metric in metrics:\n",
    "    for i in range(size):\n",
    "        get_plots(i, metric, filename)\n",
    "        "
   ]
  }
 ],
 "metadata": {
  "kernelspec": {
   "display_name": "Python 3 (ipykernel)",
   "language": "python",
   "name": "python3"
  },
  "language_info": {
   "codemirror_mode": {
    "name": "ipython",
    "version": 3
   },
   "file_extension": ".py",
   "mimetype": "text/x-python",
   "name": "python",
   "nbconvert_exporter": "python",
   "pygments_lexer": "ipython3",
   "version": "3.9.16"
  }
 },
 "nbformat": 4,
 "nbformat_minor": 5
}
